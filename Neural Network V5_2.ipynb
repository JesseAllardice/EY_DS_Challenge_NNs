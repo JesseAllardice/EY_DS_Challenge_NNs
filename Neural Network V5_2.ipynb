{
 "cells": [
  {
   "cell_type": "code",
   "execution_count": 1,
   "metadata": {},
   "outputs": [],
   "source": [
    "import tensorflow as tf\n",
    "import tensorflow.keras.backend as K\n",
    "from tensorflow import keras\n",
    "from tensorflow.keras.models import Sequential\n",
    "from tensorflow.keras.layers import Dense, Dropout, Activation, Flatten\n",
    "#from sklearn.metrics import f1_score\n",
    "#from tensorflow.keras.callbacks import TensorBoard\n",
    "import pickle\n",
    "import numpy as np\n",
    "import time\n",
    "from tensorflow.keras.callbacks import EarlyStopping\n",
    "\n",
    "import matplotlib.pyplot as plt\n",
    "\n",
    "X = pickle.load(open(\"Xtrain.pickle\",\"rb\"))\n",
    "y = pickle.load(open(\"Ytrain.pickle\",\"rb\"))\n",
    "\n",
    "x_test = pickle.load(open('Xtest_unb.pickle','rb'))\n",
    "y_test = pickle.load(open('Ytest_unb.pickle','rb'))\n",
    "\n",
    "#dense_layers = [0, 1, 2]\n",
    "#layer_sizes = [32, 64, 128]\n",
    "#conv_layers = [1,2,3]\n",
    "\n",
    "\n",
    "\n"
   ]
  },
  {
   "cell_type": "code",
   "execution_count": 2,
   "metadata": {},
   "outputs": [],
   "source": [
    "import matplotlib.pyplot as plt\n",
    "\n",
    "#from keras.callbacks import Callback\n",
    "\n",
    "\n",
    "class LRFinder(tf.keras.callbacks.Callback):\n",
    "    \n",
    "    # found here https://gist.github.com/jeremyjordan/ac0229abd4b2b7000aca1643e88e0f02\n",
    "    \n",
    "    '''\n",
    "    A simple callback for finding the optimal learning rate range for your model + dataset. \n",
    "    \n",
    "    # Usage\n",
    "        ```python\n",
    "            lr_finder = LRFinder(min_lr=1e-5, \n",
    "                                 max_lr=1e-2, \n",
    "                                 steps_per_epoch=np.ceil(epoch_size/batch_size), \n",
    "                                 epochs=3)\n",
    "            model.fit(X_train, Y_train, callbacks=[lr_finder])\n",
    "            \n",
    "            lr_finder.plot_loss()\n",
    "        ```\n",
    "    \n",
    "    # Arguments\n",
    "        min_lr: The lower bound of the learning rate range for the experiment.\n",
    "        max_lr: The upper bound of the learning rate range for the experiment.\n",
    "        steps_per_epoch: Number of mini-batches in the dataset. Calculated as `np.ceil(epoch_size/batch_size)`. \n",
    "        epochs: Number of epochs to run experiment. Usually between 2 and 4 epochs is sufficient. \n",
    "        \n",
    "    # References\n",
    "        Blog post: jeremyjordan.me/nn-learning-rate\n",
    "        Original paper: https://arxiv.org/abs/1506.01186\n",
    "    '''\n",
    "    \n",
    "    def __init__(self, min_lr=1e-5, max_lr=1e-2, steps_per_epoch=None, epochs=None):\n",
    "        super(LRFinder, self).__init__()\n",
    "        \n",
    "        self.min_lr = min_lr\n",
    "        self.max_lr = max_lr\n",
    "        self.total_iterations = steps_per_epoch * epochs\n",
    "        self.iteration = 0\n",
    "        self.history = {}\n",
    "        \n",
    "    def clr(self):\n",
    "        '''Calculate the learning rate.'''\n",
    "        x = self.iteration / self.total_iterations \n",
    "        return self.min_lr + (self.max_lr-self.min_lr) * x\n",
    "        \n",
    "    def on_train_begin(self, logs=None):\n",
    "        '''Initialize the learning rate to the minimum value at the start of training.'''\n",
    "        logs = logs or {}\n",
    "        K.set_value(self.model.optimizer.lr, self.min_lr)\n",
    "        \n",
    "    def on_batch_end(self, epoch, logs=None):\n",
    "        '''Record previous batch statistics and update the learning rate.'''\n",
    "        logs = logs or {}\n",
    "        self.iteration += 1\n",
    "\n",
    "        self.history.setdefault('lr', []).append(K.get_value(self.model.optimizer.lr))\n",
    "        self.history.setdefault('iterations', []).append(self.iteration)\n",
    "\n",
    "        for k, v in logs.items():\n",
    "            self.history.setdefault(k, []).append(v)\n",
    "            \n",
    "        K.set_value(self.model.optimizer.lr, self.clr())\n",
    " \n",
    "    def plot_lr(self):\n",
    "        '''Helper function to quickly inspect the learning rate schedule.'''\n",
    "        plt.plot(self.history['iterations'], self.history['lr'])\n",
    "        plt.yscale('log')\n",
    "        plt.xlabel('Iteration')\n",
    "        plt.ylabel('Learning rate')\n",
    "        plt.show()\n",
    "        \n",
    "    def plot_loss(self):\n",
    "        '''Helper function to quickly observe the learning rate experiment results.'''\n",
    "        plt.plot(self.history['lr'], self.history['loss'])\n",
    "        plt.xscale('log')\n",
    "        plt.xlabel('Learning rate')\n",
    "        plt.ylabel('Loss')\n",
    "        plt.show()"
   ]
  },
  {
   "cell_type": "code",
   "execution_count": 26,
   "metadata": {},
   "outputs": [
    {
     "name": "stdout",
     "output_type": "stream",
     "text": [
      "26886/26886 [==============================] - 3s 127us/sample - loss: 0.5414 - acc: 0.7405\n"
     ]
    },
    {
     "data": {
      "image/png": "[encoded data removed]",
      "text/plain": [
       "<Figure size 432x288 with 1 Axes>"
      ]
     },
     "metadata": {
      "needs_background": "light"
     },
     "output_type": "display_data"
    }
   ],
   "source": [
    "epoch_size=1280\n",
    "batch_size = 128\n",
    "#num_classes = 10\n",
    "#epochs = 5\n",
    "    \n",
    "layer_sizes = 128\n",
    "dropout = [0.1]\n",
    "    \n",
    "model_lr = Sequential()\n",
    "          \n",
    "model_lr.add(Flatten(input_shape=X[0].shape))\n",
    "\n",
    "model_lr.add(Dense(layer_sizes))\n",
    "model_lr.add(Activation(\"relu\"))\n",
    "model_lr.add(Dropout(dropout[0]))\n",
    "\n",
    "model_lr.add(Dense(layer_sizes))\n",
    "model_lr.add(Activation(\"relu\"))\n",
    "model_lr.add(Dropout(dropout[0]))\n",
    "\n",
    "model_lr.add(Dense(layer_sizes))\n",
    "model_lr.add(Activation(\"relu\"))\n",
    "model_lr.add(Dropout(dropout[0]))\n",
    "\n",
    "model_lr.add(Dense(layer_sizes))\n",
    "model_lr.add(Activation(\"relu\"))\n",
    "model_lr.add(Dropout(dropout[0]))\n",
    "\n",
    "model_lr.add(Dense(layer_sizes))\n",
    "model_lr.add(Activation(\"relu\"))\n",
    "model_lr.add(Dropout(dropout[0]))\n",
    "\n",
    "\n",
    "model_lr.add(Dense(1))\n",
    "model_lr.add(Activation(\"sigmoid\"))\n",
    "    \n",
    "\n",
    "model_lr.compile(loss=\"binary_crossentropy\",\n",
    "                  optimizer=\"adam\",\n",
    "                  metrics=['accuracy'])\n",
    "\n",
    "lr_finder = LRFinder(min_lr=1e-6, \n",
    "                                 max_lr=1e-2, \n",
    "                                 #steps_per_epoch=np.ceil(epoch_size/batch_size),\n",
    "                                 steps_per_epoch=80,\n",
    "                                 epochs=8)\n",
    "\n",
    "model_lr.fit(X,y, callbacks=[lr_finder])\n",
    "            \n",
    "lr_finder.plot_loss()"
   ]
  },
  {
   "cell_type": "code",
   "execution_count": 27,
   "metadata": {},
   "outputs": [
    {
     "name": "stdout",
     "output_type": "stream",
     "text": [
      "Restoring model weights from the end of the best epoch.\n",
      "Epoch 00079: early stopping\n"
     ]
    },
    {
     "data": {
      "image/png": "[encoded data removed]",
      "text/plain": [
       "<Figure size 432x288 with 1 Axes>"
      ]
     },
     "metadata": {
      "needs_background": "light"
     },
     "output_type": "display_data"
    }
   ],
   "source": [
    "\n",
    "            \n",
    "model = Sequential()\n",
    "          \n",
    "model.add(Flatten(input_shape=X[0].shape))\n",
    "\n",
    "model.add(Dense(layer_sizes))\n",
    "model.add(Activation(\"relu\"))\n",
    "model.add(Dropout(dropout[0]))\n",
    "\n",
    "model.add(Dense(layer_sizes))\n",
    "model.add(Activation(\"relu\"))\n",
    "model.add(Dropout(dropout[0]))\n",
    "\n",
    "model.add(Dense(layer_sizes))\n",
    "model.add(Activation(\"relu\"))\n",
    "model.add(Dropout(dropout[0]))\n",
    "\n",
    "model.add(Dense(layer_sizes))\n",
    "model.add(Activation(\"relu\"))\n",
    "model.add(Dropout(dropout[0]))\n",
    "\n",
    "model.add(Dense(layer_sizes))\n",
    "model.add(Activation(\"relu\"))\n",
    "model.add(Dropout(dropout[0]))\n",
    "\n",
    "\n",
    "model.add(Dense(1))\n",
    "model.add(Activation(\"sigmoid\"))\n",
    "            \n",
    "opt=tf.keras.optimizers.Adam()    \n",
    "    \n",
    "model.compile(loss = \"binary_crossentropy\",\n",
    "                          optimizer = opt,\n",
    "                          metrics = ['accuracy'])\n",
    "            \n",
    "es = EarlyStopping(monitor='val_loss', mode='min', patience=25, verbose=1, restore_best_weights=True)           \n",
    "\n",
    "history = model.fit(X,y, batch_size = 32, epochs =180,verbose=0,validation_split = 0.2,callbacks=[es])\n",
    "\n",
    "# plot training history\n",
    "plt.plot(history.history['loss'], label='train')\n",
    "plt.plot(history.history['val_loss'], label='test')\n",
    "plt.legend()\n",
    "plt.show()"
   ]
  },
  {
   "cell_type": "code",
   "execution_count": 28,
   "metadata": {},
   "outputs": [
    {
     "name": "stdout",
     "output_type": "stream",
     "text": [
      "13353/13353 [==============================] - 0s 29us/sample - loss: 0.4109 - acc: 0.8173\n",
      "0.41087759045177763\n",
      "0.8172695\n"
     ]
    }
   ],
   "source": [
    "val_loss, val_acc = model.evaluate(x_test, y_test) # evaluate the out of sample data with model\n",
    "print(val_loss) # model's loss (error)\n",
    "print(val_acc) # model's accuracy"
   ]
  },
  {
   "cell_type": "code",
   "execution_count": 22,
   "metadata": {},
   "outputs": [],
   "source": [
    "def f1(y_true, y_pred):\n",
    "    y_pred = K.round(y_pred)\n",
    "    tp = K.sum(K.cast(y_true*y_pred, 'float'), axis=0)\n",
    "    # tn = K.sum(K.cast((1-y_true)*(1-y_pred), 'float'), axis=0)\n",
    "    fp = K.sum(K.cast((1-y_true)*y_pred, 'float'), axis=0)\n",
    "    fn = K.sum(K.cast(y_true*(1-y_pred), 'float'), axis=0)\n",
    "\n",
    "    p = tp / (tp + fp + K.epsilon())\n",
    "    r = tp / (tp + fn + K.epsilon())\n",
    "\n",
    "    f1 = 2*p*r / (p+r+K.epsilon())\n",
    "    f1 = tf.where(tf.is_nan(f1), tf.zeros_like(f1), f1)\n",
    "    return K.mean(f1)"
   ]
  },
  {
   "cell_type": "code",
   "execution_count": 29,
   "metadata": {
    "scrolled": true
   },
   "outputs": [
    {
     "data": {
      "text/plain": [
       "array([[0.34058905],\n",
       "       [0.09668127],\n",
       "       [0.10923091],\n",
       "       ...,\n",
       "       [0.2540418 ],\n",
       "       [0.9506937 ],\n",
       "       [0.10458539]], dtype=float32)"
      ]
     },
     "execution_count": 29,
     "metadata": {},
     "output_type": "execute_result"
    }
   ],
   "source": [
    "predict_2 = model.predict(x_test)\n",
    "predict_2"
   ]
  },
  {
   "cell_type": "code",
   "execution_count": 54,
   "metadata": {},
   "outputs": [
    {
     "data": {
      "text/plain": [
       "array([[0],\n",
       "       [0],\n",
       "       [0],\n",
       "       ...,\n",
       "       [0],\n",
       "       [1],\n",
       "       [0]])"
      ]
     },
     "execution_count": 54,
     "metadata": {},
     "output_type": "execute_result"
    }
   ],
   "source": [
    "threshold = 0.6395\n",
    "predict_3=predict_2>=threshold\n",
    "predict_3=predict_3*1\n",
    "predict_3"
   ]
  },
  {
   "cell_type": "code",
   "execution_count": 55,
   "metadata": {},
   "outputs": [
    {
     "name": "stdout",
     "output_type": "stream",
     "text": [
      "Custom Macro-F1-Score: 0.7233185\n"
     ]
    }
   ],
   "source": [
    "#print('sklearn Macro-F1-Score:', f1_score(y_test, model.predict_class(x_test), average='macro'))\n",
    "print('Custom Macro-F1-Score:', K.eval(f1(y_test, np.reshape(predict_3,(-1)))))\n"
   ]
  },
  {
   "cell_type": "code",
   "execution_count": 10,
   "metadata": {},
   "outputs": [],
   "source": [
    "model.save('first_Dense_V5_2_1.model') # save the model"
   ]
  },
  {
   "cell_type": "code",
   "execution_count": 11,
   "metadata": {},
   "outputs": [
    {
     "data": {
      "text/plain": [
       "<matplotlib.collections.PathCollection at 0x1c88aad8630>"
      ]
     },
     "execution_count": 11,
     "metadata": {},
     "output_type": "execute_result"
    },
    {
     "data": {
      "image/png": "[encoded data removed]",
      "text/plain": [
       "<Figure size 432x288 with 1 Axes>"
      ]
     },
     "metadata": {
      "needs_background": "light"
     },
     "output_type": "display_data"
    }
   ],
   "source": [
    "threshold_ratio = np.array([#[0.3, 0.64159465],\n",
    "                  # [0.4  , 0.6857272],\n",
    "                   #[0.5  , 0.71317065],\n",
    "                   [0.6  , 0.7258737],\n",
    "                   [0.62 , 0.7271045],\n",
    "                   [0.64 , 0.7276379] ,\n",
    "                   [0.65 , 0.7282285],\n",
    "                   [0.655 , 0.72941166], \n",
    "                   [0.657 , 0.7296857], \n",
    "                   [0.66 , 0.7293957],\n",
    "                   [0.67 , 0.72881585],\n",
    "                   [0.68 , 0.72712207],\n",
    "                   [0.7  , 0.7259926],\n",
    "                   #[0.8  , 0.675983],\n",
    "                   #[0.9  , 0.48307756]\n",
    "                           ])\n",
    "threshold_ratio[:,0]\n",
    "\n",
    "plt.scatter(threshold_ratio[:,0],threshold_ratio[:,1])"
   ]
  },
  {
   "cell_type": "markdown",
   "metadata": {},
   "source": [
    "balanced  test data: \n",
    "0.5 - 0.832426\n",
    "\n",
    "unbalanced test data (same ratio as upload):\n",
    "\n",
    "0.3  - 0.64159465\n",
    "0.4  - 0.6857272\n",
    "0.5  - 0.71317065\n",
    "0.6  - 0.7258737\n",
    "0.65 - 0.7282285\n",
    "0.66 - 0.7293957\n",
    "0.67 - 0.72881585\n",
    "0.68 - 0.72712207\n",
    "0.7  - 0.7259926\n",
    "0.8  - 0.675983\n",
    "0.9  - 0.48307756"
   ]
  }
 ],
 "metadata": {
  "kernelspec": {
   "display_name": "Python 3",
   "language": "python",
   "name": "python3"
  },
  "language_info": {
   "codemirror_mode": {
    "name": "ipython",
    "version": 3
   },
   "file_extension": ".py",
   "mimetype": "text/x-python",
   "name": "python",
   "nbconvert_exporter": "python",
   "pygments_lexer": "ipython3",
   "version": "3.6.8"
  }
 },
 "nbformat": 4,
 "nbformat_minor": 2
}
