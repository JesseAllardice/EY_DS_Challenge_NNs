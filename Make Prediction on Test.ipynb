{
 "cells": [
  {
   "cell_type": "code",
   "execution_count": 1,
   "metadata": {},
   "outputs": [
    {
     "name": "stdout",
     "output_type": "stream",
     "text": [
      "                                  hash  \\\n",
      "0  00032f51796fd5437b238e3a9823d13d_31   \n",
      "1  000479418b5561ab694a2870cc04fd43_25   \n",
      "2   0005401ceddaf27a9b7f0d42ef1fbe95_1   \n",
      "3   00063a4f6c12e1e4de7d876580620667_3   \n",
      "4  000d479078af08618bddc7f09082b8c3_11   \n",
      "\n",
      "                                       traj_1  time_entry_x  time_exit_x  \\\n",
      "0  traj_00032f51796fd5437b238e3a9823d13d_31_0       42197.0      42617.0   \n",
      "1  traj_000479418b5561ab694a2870cc04fd43_25_0       29303.0      30008.0   \n",
      "2   traj_0005401ceddaf27a9b7f0d42ef1fbe95_1_0       33003.0      33003.0   \n",
      "3   traj_00063a4f6c12e1e4de7d876580620667_3_1       31718.0      34436.0   \n",
      "4  traj_000d479078af08618bddc7f09082b8c3_11_0       49352.0      50110.0   \n",
      "\n",
      "      x_entry_x     y_entry_x      x_exit_x      y_exit_x  Good_hash_x  \\\n",
      "0  3.773413e+06 -1.909828e+07  3.773111e+06 -1.914508e+07         True   \n",
      "1  3.771380e+06 -1.933274e+07  3.769933e+06 -1.934095e+07         True   \n",
      "2  3.751328e+06 -1.916236e+07  3.751328e+06 -1.916236e+07         True   \n",
      "3  3.747364e+06 -1.927846e+07  3.774308e+06 -1.911005e+07         True   \n",
      "4  3.744857e+06 -1.929530e+07  3.744840e+06 -1.929690e+07         True   \n",
      "\n",
      "        Xi1  ...       y_entry  x_exit  y_exit  Good_hash       Xi3 Xf3  \\\n",
      "0  0.897903  ... -1.914490e+07     NaN     NaN       True  0.889732 NaN   \n",
      "1  0.841566  ... -1.934136e+07     NaN     NaN       True  0.802744 NaN   \n",
      "2  0.286124  ... -1.935500e+07     NaN     NaN       True  0.540333 NaN   \n",
      "3  0.176318  ... -1.917013e+07     NaN     NaN       True  0.701388 NaN   \n",
      "4  0.106876  ... -1.920176e+07     NaN     NaN       True  0.706537 NaN   \n",
      "\n",
      "        Yi3  Yf3       Ti3       Tf3  \n",
      "0  0.699514  NaN  0.941181  0.948472  \n",
      "1  0.122113  NaN  0.967865  0.969722  \n",
      "2  0.082031  NaN  0.974271  0.981337  \n",
      "3  0.625369  NaN  0.931372  0.942951  \n",
      "4  0.532399  NaN  0.935521  0.941319  \n",
      "\n",
      "[5 rows x 45 columns]\n"
     ]
    }
   ],
   "source": [
    "import tensorflow as tf\n",
    "from tensorflow.keras.models import Sequential\n",
    "from tensorflow.keras.layers import Dense, Dropout, Activation, Flatten\n",
    "#from tensorflow.keras.callbacks import TensorBoard\n",
    "import pickle\n",
    "import numpy as np\n",
    "import time\n",
    "import pandas as pd\n",
    "\n",
    "df_X_test = pickle.load(open(\"df_x_test.pickle\",\"rb\"))\n",
    "df_fake_trips = pickle.load(open(\"df_Y_test_fake_Trips.pickle\",\"rb\"))\n",
    "\n",
    "print(df_X_test.head())"
   ]
  },
  {
   "cell_type": "code",
   "execution_count": 2,
   "metadata": {},
   "outputs": [
    {
     "name": "stdout",
     "output_type": "stream",
     "text": [
      "                                  trajectory_id  incity\n",
      "10   traj_000506a39775e5bca661ac80e3f466eb_29_5    True\n",
      "23   traj_0006535be25bb52dd06983447880c964_5_12   False\n",
      "27   traj_0006f84bb33ec929d1cda7686f861d0a_31_3    True\n",
      "31  traj_00093ae562586aed0e053b8431e8ace4_23_10   False\n",
      "34   traj_000c739e444a70e1804d757a0580caaa_31_3    True\n"
     ]
    },
    {
     "data": {
      "text/html": [
       "<div>\n",
       "<style scoped>\n",
       "    .dataframe tbody tr th:only-of-type {\n",
       "        vertical-align: middle;\n",
       "    }\n",
       "\n",
       "    .dataframe tbody tr th {\n",
       "        vertical-align: top;\n",
       "    }\n",
       "\n",
       "    .dataframe thead th {\n",
       "        text-align: right;\n",
       "    }\n",
       "</style>\n",
       "<table border=\"1\" class=\"dataframe\">\n",
       "  <thead>\n",
       "    <tr style=\"text-align: right;\">\n",
       "      <th></th>\n",
       "      <th>trajectory_id</th>\n",
       "      <th>incity</th>\n",
       "    </tr>\n",
       "  </thead>\n",
       "  <tbody>\n",
       "    <tr>\n",
       "      <th>count</th>\n",
       "      <td>16841</td>\n",
       "      <td>16841</td>\n",
       "    </tr>\n",
       "    <tr>\n",
       "      <th>unique</th>\n",
       "      <td>16841</td>\n",
       "      <td>2</td>\n",
       "    </tr>\n",
       "    <tr>\n",
       "      <th>top</th>\n",
       "      <td>traj_919287e327e0adad48d2808e4580ee03_29_7</td>\n",
       "      <td>False</td>\n",
       "    </tr>\n",
       "    <tr>\n",
       "      <th>freq</th>\n",
       "      <td>1</td>\n",
       "      <td>11980</td>\n",
       "    </tr>\n",
       "  </tbody>\n",
       "</table>\n",
       "</div>"
      ],
      "text/plain": [
       "                                     trajectory_id incity\n",
       "count                                        16841  16841\n",
       "unique                                       16841      2\n",
       "top     traj_919287e327e0adad48d2808e4580ee03_29_7  False\n",
       "freq                                             1  11980"
      ]
     },
     "execution_count": 2,
     "metadata": {},
     "output_type": "execute_result"
    }
   ],
   "source": [
    "\n",
    "print(df_fake_trips.head())\n",
    "df_fake_trips.describe()"
   ]
  },
  {
   "cell_type": "code",
   "execution_count": 3,
   "metadata": {},
   "outputs": [
    {
     "name": "stdout",
     "output_type": "stream",
     "text": [
      "[[0.89790318 0.88951588 0.83652352 0.69898662 0.73258681 0.73987847\n",
      "  0.89710145 0.89007092 0.79196034 0.70024029 0.83911458 0.85751736\n",
      "  0.88973173 0.69951449 0.94118056 0.94847222]\n",
      " [0.84156645 0.80148011 0.14747403 0.12333793 0.50873264 0.52097222\n",
      "  0.84156645 0.80286772 0.14747403 0.11833687 0.75873264 0.76395833\n",
      "  0.80274437 0.1221133  0.96786458 0.96972222]\n",
      " [0.28612396 0.28612396 0.64820893 0.64820893 0.57296875 0.57296875\n",
      "  0.28670984 0.28670984 0.64678637 0.64678637 0.60171875 0.60171875\n",
      "  0.54033302 0.08203088 0.97427083 0.98133681]\n",
      " [0.17631822 0.92269504 0.3069781  0.801938   0.55065972 0.59784722\n",
      "  0.97687327 0.70074006 0.58787107 0.62490518 0.89409722 0.91149306\n",
      "  0.7013876  0.62536888 0.93137153 0.94295139]\n",
      " [0.10687635 0.10641381 0.25749546 0.25280017 0.85680556 0.86996528\n",
      "  0.10564292 0.73919211 0.17917786 0.52520836 0.91248264 0.93447917\n",
      "  0.70653716 0.53239939 0.93552083 0.94131944]]\n"
     ]
    }
   ],
   "source": [
    "#convert to numpy arrays\n",
    "\n",
    "columns_np = ['Xi1','Xf1','Yi1','Yf1','Ti1','Tf1',\n",
    "             'Xi2','Xf2','Yi2','Yf2','Ti2','Tf2',\n",
    "             'Xi3','Yi3','Ti3','Tf3']\n",
    "x_test = df_X_test[columns_np].values\n",
    "\n",
    "\n",
    "print(x_test[0:5])"
   ]
  },
  {
   "cell_type": "code",
   "execution_count": 4,
   "metadata": {},
   "outputs": [
    {
     "name": "stdout",
     "output_type": "stream",
     "text": [
      "WARNING:tensorflow:From C:\\Users\\sofia\\AppData\\Local\\conda\\conda\\envs\\mlcc\\lib\\site-packages\\tensorflow\\python\\ops\\resource_variable_ops.py:435: colocate_with (from tensorflow.python.framework.ops) is deprecated and will be removed in a future version.\n",
      "Instructions for updating:\n",
      "Colocations handled automatically by placer.\n",
      "WARNING:tensorflow:From C:\\Users\\sofia\\AppData\\Local\\conda\\conda\\envs\\mlcc\\lib\\site-packages\\tensorflow\\python\\keras\\layers\\core.py:143: calling dropout (from tensorflow.python.ops.nn_ops) with keep_prob is deprecated and will be removed in a future version.\n",
      "Instructions for updating:\n",
      "Please use `rate` instead of `keep_prob`. Rate should be set to `rate = 1 - keep_prob`.\n",
      "WARNING:tensorflow:From C:\\Users\\sofia\\AppData\\Local\\conda\\conda\\envs\\mlcc\\lib\\site-packages\\tensorflow\\python\\ops\\math_ops.py:3066: to_int32 (from tensorflow.python.ops.math_ops) is deprecated and will be removed in a future version.\n",
      "Instructions for updating:\n",
      "Use tf.cast instead.\n"
     ]
    }
   ],
   "source": [
    "# load model\n",
    "new_model = tf.keras.models.load_model('first_Dense_V5_1.model') "
   ]
  },
  {
   "cell_type": "code",
   "execution_count": 7,
   "metadata": {},
   "outputs": [
    {
     "name": "stdout",
     "output_type": "stream",
     "text": [
      "[[0.08410946]\n",
      " [0.08531079]\n",
      " [0.21535638]\n",
      " [0.2394079 ]\n",
      " [0.3310572 ]\n",
      " [0.9013163 ]\n",
      " [0.31809956]\n",
      " [0.08104104]\n",
      " [0.17497915]\n",
      " [0.7786213 ]]\n"
     ]
    }
   ],
   "source": [
    "#make predictions\n",
    "predictions_float = new_model.predict(x_test) # predict the output using the model\n",
    "print(predictions_float[0:10])"
   ]
  },
  {
   "cell_type": "code",
   "execution_count": 8,
   "metadata": {},
   "outputs": [
    {
     "name": "stderr",
     "output_type": "stream",
     "text": [
      "C:\\Users\\sofia\\AppData\\Local\\conda\\conda\\envs\\mlcc\\lib\\site-packages\\ipykernel_launcher.py:2: RuntimeWarning: invalid value encountered in greater_equal\n",
      "  \n"
     ]
    },
    {
     "data": {
      "text/plain": [
       "array([[0],\n",
       "       [0],\n",
       "       [0],\n",
       "       ...,\n",
       "       [0],\n",
       "       [1],\n",
       "       [0]])"
      ]
     },
     "execution_count": 8,
     "metadata": {},
     "output_type": "execute_result"
    }
   ],
   "source": [
    "threshold = 0.657\n",
    "predictions=predictions_float>=threshold\n",
    "predictions=predictions*1\n",
    "predictions"
   ]
  },
  {
   "cell_type": "code",
   "execution_count": 9,
   "metadata": {},
   "outputs": [
    {
     "name": "stdout",
     "output_type": "stream",
     "text": [
      "                                 trajectory_id  incity\n",
      "0   traj_00032f51796fd5437b238e3a9823d13d_31_5       0\n",
      "1  traj_000479418b5561ab694a2870cc04fd43_25_10       0\n",
      "2    traj_0005401ceddaf27a9b7f0d42ef1fbe95_1_4       0\n",
      "3    traj_00063a4f6c12e1e4de7d876580620667_3_4       0\n",
      "4   traj_000d479078af08618bddc7f09082b8c3_11_6       0\n",
      "5   traj_000efd6f95db39d6ba35027f02b5628f_9_20       1\n",
      "6  traj_000feace3a33be9245e2783cdff467a8_15_12       0\n",
      "7    traj_0011b48d0cf4f962833edd701afaf419_3_7       0\n",
      "8   traj_001484cf0f956c316070be4b4c6352ff_29_7       0\n",
      "9    traj_001d29060cfe35996cfeb141210ecbeb_9_2       1\n"
     ]
    },
    {
     "data": {
      "text/html": [
       "<div>\n",
       "<style scoped>\n",
       "    .dataframe tbody tr th:only-of-type {\n",
       "        vertical-align: middle;\n",
       "    }\n",
       "\n",
       "    .dataframe tbody tr th {\n",
       "        vertical-align: top;\n",
       "    }\n",
       "\n",
       "    .dataframe thead th {\n",
       "        text-align: right;\n",
       "    }\n",
       "</style>\n",
       "<table border=\"1\" class=\"dataframe\">\n",
       "  <thead>\n",
       "    <tr style=\"text-align: right;\">\n",
       "      <th></th>\n",
       "      <th>incity</th>\n",
       "    </tr>\n",
       "  </thead>\n",
       "  <tbody>\n",
       "    <tr>\n",
       "      <th>count</th>\n",
       "      <td>16674.000000</td>\n",
       "    </tr>\n",
       "    <tr>\n",
       "      <th>mean</th>\n",
       "      <td>0.290332</td>\n",
       "    </tr>\n",
       "    <tr>\n",
       "      <th>std</th>\n",
       "      <td>0.453929</td>\n",
       "    </tr>\n",
       "    <tr>\n",
       "      <th>min</th>\n",
       "      <td>0.000000</td>\n",
       "    </tr>\n",
       "    <tr>\n",
       "      <th>25%</th>\n",
       "      <td>0.000000</td>\n",
       "    </tr>\n",
       "    <tr>\n",
       "      <th>50%</th>\n",
       "      <td>0.000000</td>\n",
       "    </tr>\n",
       "    <tr>\n",
       "      <th>75%</th>\n",
       "      <td>1.000000</td>\n",
       "    </tr>\n",
       "    <tr>\n",
       "      <th>max</th>\n",
       "      <td>1.000000</td>\n",
       "    </tr>\n",
       "  </tbody>\n",
       "</table>\n",
       "</div>"
      ],
      "text/plain": [
       "             incity\n",
       "count  16674.000000\n",
       "mean       0.290332\n",
       "std        0.453929\n",
       "min        0.000000\n",
       "25%        0.000000\n",
       "50%        0.000000\n",
       "75%        1.000000\n",
       "max        1.000000"
      ]
     },
     "execution_count": 9,
     "metadata": {},
     "output_type": "execute_result"
    }
   ],
   "source": [
    "#put predictions back into the DF (order shouldnt have changed)\n",
    "df_pred=pd.DataFrame({'trajectory_id':df_X_test['traj_3'],'incity':predictions[:,0]})\n",
    "\n",
    "print(df_pred.head(10))\n",
    "df_pred.describe()"
   ]
  },
  {
   "cell_type": "code",
   "execution_count": 10,
   "metadata": {},
   "outputs": [
    {
     "name": "stdout",
     "output_type": "stream",
     "text": [
      "                                   trajectory_id  incity\n",
      "10    traj_000506a39775e5bca661ac80e3f466eb_29_5       1\n",
      "23    traj_0006535be25bb52dd06983447880c964_5_12       0\n",
      "27    traj_0006f84bb33ec929d1cda7686f861d0a_31_3       1\n",
      "31   traj_00093ae562586aed0e053b8431e8ace4_23_10       0\n",
      "34    traj_000c739e444a70e1804d757a0580caaa_31_3       1\n",
      "45   traj_000d6fba12a7d06defe90e3c9162c11e_29_11       1\n",
      "87    traj_002447d99e8f6c3bc6c1329140979a91_25_7       0\n",
      "94    traj_002531dea45cd4059e92099630ebf775_3_10       0\n",
      "103   traj_0026d48a63f219dc359f1131805909bf_31_5       0\n",
      "111   traj_002f7d1d09d2af27ee5a6d0fa4e91c96_29_8       1\n"
     ]
    },
    {
     "data": {
      "text/html": [
       "<div>\n",
       "<style scoped>\n",
       "    .dataframe tbody tr th:only-of-type {\n",
       "        vertical-align: middle;\n",
       "    }\n",
       "\n",
       "    .dataframe tbody tr th {\n",
       "        vertical-align: top;\n",
       "    }\n",
       "\n",
       "    .dataframe thead th {\n",
       "        text-align: right;\n",
       "    }\n",
       "</style>\n",
       "<table border=\"1\" class=\"dataframe\">\n",
       "  <thead>\n",
       "    <tr style=\"text-align: right;\">\n",
       "      <th></th>\n",
       "      <th>incity</th>\n",
       "    </tr>\n",
       "  </thead>\n",
       "  <tbody>\n",
       "    <tr>\n",
       "      <th>count</th>\n",
       "      <td>33515.000000</td>\n",
       "    </tr>\n",
       "    <tr>\n",
       "      <th>mean</th>\n",
       "      <td>0.289482</td>\n",
       "    </tr>\n",
       "    <tr>\n",
       "      <th>std</th>\n",
       "      <td>0.453529</td>\n",
       "    </tr>\n",
       "    <tr>\n",
       "      <th>min</th>\n",
       "      <td>0.000000</td>\n",
       "    </tr>\n",
       "    <tr>\n",
       "      <th>25%</th>\n",
       "      <td>0.000000</td>\n",
       "    </tr>\n",
       "    <tr>\n",
       "      <th>50%</th>\n",
       "      <td>0.000000</td>\n",
       "    </tr>\n",
       "    <tr>\n",
       "      <th>75%</th>\n",
       "      <td>1.000000</td>\n",
       "    </tr>\n",
       "    <tr>\n",
       "      <th>max</th>\n",
       "      <td>1.000000</td>\n",
       "    </tr>\n",
       "  </tbody>\n",
       "</table>\n",
       "</div>"
      ],
      "text/plain": [
       "             incity\n",
       "count  33515.000000\n",
       "mean       0.289482\n",
       "std        0.453529\n",
       "min        0.000000\n",
       "25%        0.000000\n",
       "50%        0.000000\n",
       "75%        1.000000\n",
       "max        1.000000"
      ]
     },
     "execution_count": 10,
     "metadata": {},
     "output_type": "execute_result"
    }
   ],
   "source": [
    "#combine with predictions about the fake trips, what about ordering compared to the OG test?\n",
    "df_Y_test=pd.concat([df_fake_trips,df_pred])\n",
    "print(df_Y_test.head(10))\n",
    "df_Y_test.describe()"
   ]
  },
  {
   "cell_type": "code",
   "execution_count": 11,
   "metadata": {},
   "outputs": [
    {
     "name": "stdout",
     "output_type": "stream",
     "text": [
      "                                              id  target\n",
      "10    traj_000506a39775e5bca661ac80e3f466eb_29_5       1\n",
      "23    traj_0006535be25bb52dd06983447880c964_5_12       0\n",
      "27    traj_0006f84bb33ec929d1cda7686f861d0a_31_3       1\n",
      "31   traj_00093ae562586aed0e053b8431e8ace4_23_10       0\n",
      "34    traj_000c739e444a70e1804d757a0580caaa_31_3       1\n",
      "45   traj_000d6fba12a7d06defe90e3c9162c11e_29_11       1\n",
      "87    traj_002447d99e8f6c3bc6c1329140979a91_25_7       0\n",
      "94    traj_002531dea45cd4059e92099630ebf775_3_10       0\n",
      "103   traj_0026d48a63f219dc359f1131805909bf_31_5       0\n",
      "111   traj_002f7d1d09d2af27ee5a6d0fa4e91c96_29_8       1\n"
     ]
    }
   ],
   "source": [
    "df_Y_test.rename(columns={'incity':'target','trajectory_id':'id'} , inplace=True)\n",
    "print(df_Y_test.head(10))"
   ]
  },
  {
   "cell_type": "markdown",
   "metadata": {},
   "source": [
    "test_output = df_Y_test[['hash','incity']].values\n",
    "\n",
    "print(test_output[0:5])"
   ]
  },
  {
   "cell_type": "code",
   "execution_count": 12,
   "metadata": {},
   "outputs": [],
   "source": [
    "df_Y_test.to_csv('Y_Prediction_V5_1.csv', sep=',',index=False)"
   ]
  },
  {
   "cell_type": "code",
   "execution_count": null,
   "metadata": {},
   "outputs": [],
   "source": []
  }
 ],
 "metadata": {
  "kernelspec": {
   "display_name": "Python 3",
   "language": "python",
   "name": "python3"
  },
  "language_info": {
   "codemirror_mode": {
    "name": "ipython",
    "version": 3
   },
   "file_extension": ".py",
   "mimetype": "text/x-python",
   "name": "python",
   "nbconvert_exporter": "python",
   "pygments_lexer": "ipython3",
   "version": "3.6.8"
  }
 },
 "nbformat": 4,
 "nbformat_minor": 2
}
